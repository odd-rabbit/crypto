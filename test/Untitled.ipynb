{
 "cells": [
  {
   "cell_type": "code",
   "execution_count": 86,
   "id": "4e24561e-93d0-464f-b40d-32c9b0232549",
   "metadata": {},
   "outputs": [],
   "source": [
    "import time\n",
    "import pandas as pd\n",
    "import numpy as np"
   ]
  },
  {
   "cell_type": "code",
   "execution_count": 106,
   "id": "d5da9557-faa9-4d21-8d54-8321b1aab279",
   "metadata": {},
   "outputs": [
    {
     "name": "stdout",
     "output_type": "stream",
     "text": [
      "s\n",
      "-1    6.12653\n",
      " 1    5.72165\n",
      "Name: v, dtype: float64\n",
      "s\n",
      "-1    43443.82076\n",
      " 1    43437.30652\n",
      "Name: p, dtype: float64\n"
     ]
    }
   ],
   "source": [
    "df = pd.read_csv('trade.csv').drop_duplicates()\n",
    "print(df.groupby('s')['v'].sum())\n",
    "print(df.groupby('s')['p'].mean())"
   ]
  },
  {
   "cell_type": "code",
   "execution_count": 107,
   "id": "7f24e765-0c31-4f2f-b814-a4d29a5c2266",
   "metadata": {},
   "outputs": [
    {
     "data": {
      "text/html": [
       "<div>\n",
       "<style scoped>\n",
       "    .dataframe tbody tr th:only-of-type {\n",
       "        vertical-align: middle;\n",
       "    }\n",
       "\n",
       "    .dataframe tbody tr th {\n",
       "        vertical-align: top;\n",
       "    }\n",
       "\n",
       "    .dataframe thead th {\n",
       "        text-align: right;\n",
       "    }\n",
       "</style>\n",
       "<table border=\"1\" class=\"dataframe\">\n",
       "  <thead>\n",
       "    <tr style=\"text-align: right;\">\n",
       "      <th></th>\n",
       "      <th>T</th>\n",
       "      <th>p</th>\n",
       "      <th>v</th>\n",
       "      <th>s</th>\n",
       "    </tr>\n",
       "  </thead>\n",
       "  <tbody>\n",
       "    <tr>\n",
       "      <th>0</th>\n",
       "      <td>1649307179984</td>\n",
       "      <td>43489.19</td>\n",
       "      <td>0.00030</td>\n",
       "      <td>1</td>\n",
       "    </tr>\n",
       "    <tr>\n",
       "      <th>1</th>\n",
       "      <td>1649307179986</td>\n",
       "      <td>43489.18</td>\n",
       "      <td>0.00135</td>\n",
       "      <td>-1</td>\n",
       "    </tr>\n",
       "    <tr>\n",
       "      <th>2</th>\n",
       "      <td>1649307179987</td>\n",
       "      <td>43489.18</td>\n",
       "      <td>0.00042</td>\n",
       "      <td>-1</td>\n",
       "    </tr>\n",
       "    <tr>\n",
       "      <th>3</th>\n",
       "      <td>1649307179988</td>\n",
       "      <td>43489.19</td>\n",
       "      <td>0.00075</td>\n",
       "      <td>1</td>\n",
       "    </tr>\n",
       "    <tr>\n",
       "      <th>4</th>\n",
       "      <td>1649307179988</td>\n",
       "      <td>43489.19</td>\n",
       "      <td>0.00042</td>\n",
       "      <td>1</td>\n",
       "    </tr>\n",
       "    <tr>\n",
       "      <th>...</th>\n",
       "      <td>...</td>\n",
       "      <td>...</td>\n",
       "      <td>...</td>\n",
       "      <td>...</td>\n",
       "    </tr>\n",
       "    <tr>\n",
       "      <th>495</th>\n",
       "      <td>1649307456148</td>\n",
       "      <td>43400.01</td>\n",
       "      <td>0.04214</td>\n",
       "      <td>1</td>\n",
       "    </tr>\n",
       "    <tr>\n",
       "      <th>496</th>\n",
       "      <td>1649307456152</td>\n",
       "      <td>43400.01</td>\n",
       "      <td>0.04214</td>\n",
       "      <td>1</td>\n",
       "    </tr>\n",
       "    <tr>\n",
       "      <th>497</th>\n",
       "      <td>1649307456181</td>\n",
       "      <td>43400.00</td>\n",
       "      <td>0.00396</td>\n",
       "      <td>-1</td>\n",
       "    </tr>\n",
       "    <tr>\n",
       "      <th>498</th>\n",
       "      <td>1649307456192</td>\n",
       "      <td>43400.00</td>\n",
       "      <td>0.02304</td>\n",
       "      <td>-1</td>\n",
       "    </tr>\n",
       "    <tr>\n",
       "      <th>499</th>\n",
       "      <td>1649307456349</td>\n",
       "      <td>43400.00</td>\n",
       "      <td>0.00114</td>\n",
       "      <td>-1</td>\n",
       "    </tr>\n",
       "  </tbody>\n",
       "</table>\n",
       "<p>500 rows × 4 columns</p>\n",
       "</div>"
      ],
      "text/plain": [
       "                 T         p        v  s\n",
       "0    1649307179984  43489.19  0.00030  1\n",
       "1    1649307179986  43489.18  0.00135 -1\n",
       "2    1649307179987  43489.18  0.00042 -1\n",
       "3    1649307179988  43489.19  0.00075  1\n",
       "4    1649307179988  43489.19  0.00042  1\n",
       "..             ...       ...      ... ..\n",
       "495  1649307456148  43400.01  0.04214  1\n",
       "496  1649307456152  43400.01  0.04214  1\n",
       "497  1649307456181  43400.00  0.00396 -1\n",
       "498  1649307456192  43400.00  0.02304 -1\n",
       "499  1649307456349  43400.00  0.00114 -1\n",
       "\n",
       "[500 rows x 4 columns]"
      ]
     },
     "execution_count": 107,
     "metadata": {},
     "output_type": "execute_result"
    }
   ],
   "source": [
    "df"
   ]
  },
  {
   "cell_type": "code",
   "execution_count": 101,
   "id": "61ba9dc8-e385-4fe7-b93c-540682e81566",
   "metadata": {},
   "outputs": [
    {
     "data": {
      "text/plain": [
       "[43437.032910447764, 2.3439200000000002, 43444.68887931034, 2.86458]"
      ]
     },
     "execution_count": 101,
     "metadata": {},
     "output_type": "execute_result"
    }
   ],
   "source": [
    "def analysis(df):\n",
    "    price = df.groupby('s')['p'].mean()\n",
    "    volumn = df.groupby('s')['v'].sum()\n",
    "    if -1 not in price.index and 1 in price.index:\n",
    "        return [price[1], volumn[1], None, None]\n",
    "    elif 1 not in price.index and -1 in price.index:\n",
    "        return [None, None, price[-1], volumn[-1]]\n",
    "    elif 1 not in price.index and -1 not in price.index:\n",
    "        return [None, None, None, None]\n",
    "    else:\n",
    "        return [price[1], volumn[1], price[-1], volumn[-1]]\n",
    "analysis(df)"
   ]
  },
  {
   "cell_type": "code",
   "execution_count": 102,
   "id": "943723c3-7d68-44d8-8368-a732947bc4c8",
   "metadata": {},
   "outputs": [
    {
     "name": "stdout",
     "output_type": "stream",
     "text": [
      "              T       avg_buy  vol_buy      avg_sell  vol_sell\n",
      "0  1.649307e+12  43489.190000  0.04057  43489.180000   0.01629\n",
      "1  1.649307e+12  43461.974545  0.29562  43463.063214   0.37927\n",
      "2  1.649307e+12           NaN      NaN           NaN       NaN\n",
      "3  1.649307e+12           NaN      NaN           NaN       NaN\n",
      "4  1.649307e+12  43421.830000  1.43059  43427.474318   1.34459\n",
      "5  1.649307e+12  43430.600000  0.10719  43430.590000   0.07372\n",
      "6  1.649307e+12           NaN      NaN           NaN       NaN\n",
      "7  1.649307e+12           NaN      NaN           NaN       NaN\n",
      "8  1.649307e+12  43400.190000  0.15369  43400.000000   0.00117\n",
      "9  1.649307e+12  43400.010000  0.31596  43400.000000   1.04840\n"
     ]
    }
   ],
   "source": [
    "second = 1000\n",
    "per_sec = np.append(np.arange(df['T'][0], df['T'].iloc[-1], 30*second), df['T'].iloc[-1])\n",
    "res_df = pd.DataFrame(data=None, columns=['T', 'avg_buy', 'vol_buy', 'avg_sell', 'vol_sell'])\n",
    "for i,t in enumerate(per_sec):\n",
    "    if i != 0:\n",
    "        select_df = df[(df['T']>last_t) & (df['T']<t)].reset_index(drop=True)\n",
    "        res = analysis(select_df)\n",
    "        res.insert(0, t)\n",
    "        res_df.loc[len(res_df.index)] = res\n",
    "    last_t = t\n",
    "print(res_df)"
   ]
  },
  {
   "cell_type": "code",
   "execution_count": 116,
   "id": "79f63776-7f51-452e-bdf7-2129387a0b5c",
   "metadata": {},
   "outputs": [
    {
     "data": {
      "text/plain": [
       "'he'"
      ]
     },
     "execution_count": 116,
     "metadata": {},
     "output_type": "execute_result"
    }
   ],
   "source": [
    "a = 'he:llo'\n",
    "a.split(':')[0]"
   ]
  },
  {
   "cell_type": "code",
   "execution_count": 114,
   "id": "3e89a2a3-c7c8-48fb-9c9a-278de76b44a1",
   "metadata": {},
   "outputs": [
    {
     "data": {
      "text/plain": [
       "1649312129.3011038"
      ]
     },
     "execution_count": 114,
     "metadata": {},
     "output_type": "execute_result"
    }
   ],
   "source": [
    "import time\n",
    "time.time()"
   ]
  },
  {
   "cell_type": "code",
   "execution_count": 117,
   "id": "40fbb8e6-c838-46f6-a16b-f7fca9f1e2ac",
   "metadata": {},
   "outputs": [
    {
     "data": {
      "text/plain": [
       "False"
      ]
     },
     "execution_count": 117,
     "metadata": {},
     "output_type": "execute_result"
    }
   ],
   "source": [
    "import os\n",
    "os.path.isfile('hello'+'.csv')"
   ]
  },
  {
   "cell_type": "code",
   "execution_count": 118,
   "id": "4da6f896-6b5e-46a5-8c72-0a32bb842eab",
   "metadata": {},
   "outputs": [
    {
     "data": {
      "text/html": [
       "<div>\n",
       "<style scoped>\n",
       "    .dataframe tbody tr th:only-of-type {\n",
       "        vertical-align: middle;\n",
       "    }\n",
       "\n",
       "    .dataframe tbody tr th {\n",
       "        vertical-align: top;\n",
       "    }\n",
       "\n",
       "    .dataframe thead th {\n",
       "        text-align: right;\n",
       "    }\n",
       "</style>\n",
       "<table border=\"1\" class=\"dataframe\">\n",
       "  <thead>\n",
       "    <tr style=\"text-align: right;\">\n",
       "      <th></th>\n",
       "      <th>avg_buy</th>\n",
       "      <th>T</th>\n",
       "    </tr>\n",
       "  </thead>\n",
       "  <tbody>\n",
       "    <tr>\n",
       "      <th>0</th>\n",
       "      <td>43489.190000</td>\n",
       "      <td>1.649307e+12</td>\n",
       "    </tr>\n",
       "    <tr>\n",
       "      <th>1</th>\n",
       "      <td>43461.974545</td>\n",
       "      <td>1.649307e+12</td>\n",
       "    </tr>\n",
       "    <tr>\n",
       "      <th>2</th>\n",
       "      <td>NaN</td>\n",
       "      <td>1.649307e+12</td>\n",
       "    </tr>\n",
       "    <tr>\n",
       "      <th>3</th>\n",
       "      <td>NaN</td>\n",
       "      <td>1.649307e+12</td>\n",
       "    </tr>\n",
       "    <tr>\n",
       "      <th>4</th>\n",
       "      <td>43421.830000</td>\n",
       "      <td>1.649307e+12</td>\n",
       "    </tr>\n",
       "    <tr>\n",
       "      <th>5</th>\n",
       "      <td>43430.600000</td>\n",
       "      <td>1.649307e+12</td>\n",
       "    </tr>\n",
       "    <tr>\n",
       "      <th>6</th>\n",
       "      <td>NaN</td>\n",
       "      <td>1.649307e+12</td>\n",
       "    </tr>\n",
       "    <tr>\n",
       "      <th>7</th>\n",
       "      <td>NaN</td>\n",
       "      <td>1.649307e+12</td>\n",
       "    </tr>\n",
       "    <tr>\n",
       "      <th>8</th>\n",
       "      <td>43400.190000</td>\n",
       "      <td>1.649307e+12</td>\n",
       "    </tr>\n",
       "    <tr>\n",
       "      <th>9</th>\n",
       "      <td>43400.010000</td>\n",
       "      <td>1.649307e+12</td>\n",
       "    </tr>\n",
       "  </tbody>\n",
       "</table>\n",
       "</div>"
      ],
      "text/plain": [
       "        avg_buy             T\n",
       "0  43489.190000  1.649307e+12\n",
       "1  43461.974545  1.649307e+12\n",
       "2           NaN  1.649307e+12\n",
       "3           NaN  1.649307e+12\n",
       "4  43421.830000  1.649307e+12\n",
       "5  43430.600000  1.649307e+12\n",
       "6           NaN  1.649307e+12\n",
       "7           NaN  1.649307e+12\n",
       "8  43400.190000  1.649307e+12\n",
       "9  43400.010000  1.649307e+12"
      ]
     },
     "execution_count": 118,
     "metadata": {},
     "output_type": "execute_result"
    }
   ],
   "source": [
    "res_df[['avg_buy', 'T']]"
   ]
  },
  {
   "cell_type": "code",
   "execution_count": 123,
   "id": "c089a516-3b8d-43ed-8a7c-c1e3c54e7223",
   "metadata": {},
   "outputs": [
    {
     "data": {
      "text/plain": [
       "1649324375.979513"
      ]
     },
     "execution_count": 123,
     "metadata": {},
     "output_type": "execute_result"
    }
   ],
   "source": [
    "from datetime import datetime\n",
    "datetime.now().timestamp()"
   ]
  },
  {
   "cell_type": "code",
   "execution_count": 137,
   "id": "9ab32de9-af1d-4401-b673-54211673de23",
   "metadata": {},
   "outputs": [
    {
     "data": {
      "text/plain": [
       "False"
      ]
     },
     "execution_count": 137,
     "metadata": {},
     "output_type": "execute_result"
    }
   ],
   "source": [
    "isinstance(datetime.strptime('2022/01/01 21:35', '%Y/%m/%d %H:%M'), str)"
   ]
  },
  {
   "cell_type": "code",
   "execution_count": 140,
   "id": "df2977a2-9924-4a02-a765-8e9019a364ab",
   "metadata": {},
   "outputs": [
    {
     "data": {
      "text/plain": [
       "Timestamp('1970-01-01 00:00:01.649325062')"
      ]
     },
     "execution_count": 140,
     "metadata": {},
     "output_type": "execute_result"
    }
   ],
   "source": [
    "pd.to_datetime(time.time())"
   ]
  },
  {
   "cell_type": "code",
   "execution_count": 139,
   "id": "36583abf-7ed9-42ab-9498-736251f1ee86",
   "metadata": {},
   "outputs": [
    {
     "data": {
      "text/plain": [
       "16"
      ]
     },
     "execution_count": 139,
     "metadata": {},
     "output_type": "execute_result"
    }
   ],
   "source": [
    "len('2022/01/01 21:35')"
   ]
  }
 ],
 "metadata": {
  "kernelspec": {
   "display_name": "Python 3 (ipykernel)",
   "language": "python",
   "name": "python3"
  },
  "language_info": {
   "codemirror_mode": {
    "name": "ipython",
    "version": 3
   },
   "file_extension": ".py",
   "mimetype": "text/x-python",
   "name": "python",
   "nbconvert_exporter": "python",
   "pygments_lexer": "ipython3",
   "version": "3.9.7"
  }
 },
 "nbformat": 4,
 "nbformat_minor": 5
}
